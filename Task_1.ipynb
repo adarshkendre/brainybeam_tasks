{
 "cells": [
  {
   "cell_type": "markdown",
   "id": "63db4d56-fd8d-40e8-8118-7bd0eacbee6c",
   "metadata": {},
   "source": [
    "### Data Fusion and Reshaping for Complex Analytica"
   ]
  },
  {
   "cell_type": "markdown",
   "id": "8a06578b-9362-45d0-9c4a-2f3d2778c5bd",
   "metadata": {},
   "source": [
    "#### Data Fusion : data fusion is nothing but merging the multiple tables or taking intersection on one common column"
   ]
  },
  {
   "cell_type": "code",
   "execution_count": 1,
   "id": "6cb8f395-fa6c-41bb-b796-2eb2fa79254b",
   "metadata": {},
   "outputs": [],
   "source": [
    "# importing required libraries\n",
    "import pandas as pd"
   ]
  },
  {
   "cell_type": "code",
   "execution_count": 2,
   "id": "763d6e0d-8553-45b8-94dc-5d6127eb757e",
   "metadata": {},
   "outputs": [],
   "source": [
    "students = pd.DataFrame({\n",
    "    \"student_id\": [1, 2, 3, 4],\n",
    "    \"name\": [\"Adarsh\", \"Priya\", \"Rohan\", \"Neha\"],\n",
    "    \"age\": [21, 22, 23, 22]\n",
    "})\n",
    "\n",
    "marks = pd.DataFrame({\n",
    "    \"student_id\": [1, 2, 3, 4],\n",
    "    \"math\": [85, 90, 78, 88],\n",
    "    \"science\": [92, 81, 74, 95],\n",
    "    \"english\": [88, 76, 89, 84]\n",
    "})\n",
    "\n",
    "attendance = pd.DataFrame({\n",
    "    \"student_id\": [1, 2, 3, 4],\n",
    "    \"days_present\": [40, 38, 35, 42],\n",
    "    \"total_days\": [45, 45, 45, 45]\n",
    "})"
   ]
  },
  {
   "cell_type": "code",
   "execution_count": 3,
   "id": "9987c795-e912-478d-af07-837664c7cb0c",
   "metadata": {},
   "outputs": [
    {
     "name": "stdout",
     "output_type": "stream",
     "text": [
      "   student_id    name  age\n",
      "0           1  Adarsh   21\n",
      "1           2   Priya   22\n",
      "2           3   Rohan   23\n",
      "3           4    Neha   22 \n",
      "\n",
      "   student_id  math  science  english\n",
      "0           1    85       92       88\n",
      "1           2    90       81       76\n",
      "2           3    78       74       89\n",
      "3           4    88       95       84 \n",
      "\n",
      "   student_id  days_present  total_days\n",
      "0           1            40          45\n",
      "1           2            38          45\n",
      "2           3            35          45\n",
      "3           4            42          45\n"
     ]
    }
   ],
   "source": [
    "print(students,'\\n')\n",
    "print(marks,'\\n')\n",
    "print(attendance)"
   ]
  },
  {
   "cell_type": "code",
   "execution_count": 15,
   "id": "f8b18ea6-b886-4d64-9032-594c61f61e1d",
   "metadata": {},
   "outputs": [
    {
     "name": "stdout",
     "output_type": "stream",
     "text": [
      "   student_id    name  age  math  science  english  days_present  total_days\n",
      "0           1  Adarsh   21    85       92       88            40          45\n",
      "1           2   Priya   22    90       81       76            38          45\n",
      "2           3   Rohan   23    78       74       89            35          45\n",
      "3           4    Neha   22    88       95       84            42          45\n"
     ]
    }
   ],
   "source": [
    "merged = students.merge(marks, on=\"student_id\").merge(attendance, on=\"student_id\")\n",
    "print(merged)\n",
    "merged.to_csv('merged_data',index = False)"
   ]
  },
  {
   "cell_type": "code",
   "execution_count": 5,
   "id": "c64bcd96-6747-4d1c-b5a4-1b7caa60510d",
   "metadata": {},
   "outputs": [
    {
     "name": "stdout",
     "output_type": "stream",
     "text": [
      "   student_id    name  age  days_present  total_days  subject  score\n",
      "0           1  Adarsh   21            40          45     math     85\n",
      "1           2   Priya   22            38          45     math     90\n",
      "2           3   Rohan   23            35          45     math     78\n",
      "3           4    Neha   22            42          45     math     88\n",
      "4           1  Adarsh   21            40          45  science     92\n"
     ]
    }
   ],
   "source": [
    "long_format = pd.melt(\n",
    "    merged,\n",
    "    id_vars=[\"student_id\", \"name\", \"age\", \"days_present\", \"total_days\"],\n",
    "    value_vars=[\"math\", \"science\", \"english\"],\n",
    "    var_name=\"subject\",\n",
    "    value_name=\"score\"\n",
    ")\n",
    "print(long_format.head())"
   ]
  },
  {
   "cell_type": "code",
   "execution_count": 6,
   "id": "e531e2f8-5ba7-4d17-9d61-b752d208ccbb",
   "metadata": {},
   "outputs": [
    {
     "name": "stdout",
     "output_type": "stream",
     "text": [
      "subject  student_id    name  english  math  science\n",
      "0                 1  Adarsh     88.0  85.0     92.0\n",
      "1                 2   Priya     76.0  90.0     81.0\n",
      "2                 3   Rohan     89.0  78.0     74.0\n",
      "3                 4    Neha     84.0  88.0     95.0\n"
     ]
    }
   ],
   "source": [
    "pivot = long_format.pivot_table(\n",
    "    index=[\"student_id\", \"name\"],\n",
    "    columns=\"subject\",\n",
    "    values=\"score\"\n",
    ").reset_index()\n",
    "print(pivot)"
   ]
  },
  {
   "cell_type": "code",
   "execution_count": null,
   "id": "270dd620-50d6-4077-878c-4489e3d0f35c",
   "metadata": {},
   "outputs": [],
   "source": []
  },
  {
   "cell_type": "code",
   "execution_count": null,
   "id": "a68b1739-dd8b-4d28-a381-377dffc5dc2a",
   "metadata": {},
   "outputs": [],
   "source": []
  },
  {
   "cell_type": "code",
   "execution_count": 7,
   "id": "3387ee8d-c537-44a2-9745-fcda6f628db2",
   "metadata": {},
   "outputs": [
    {
     "name": "stdout",
     "output_type": "stream",
     "text": [
      "Original DataFrame:\n",
      "          City  2020_Population  2021_Population\n",
      "0     New York          8400000          8500000\n",
      "1  Los Angeles          3900000          3950000\n",
      "\n",
      "Melted DataFrame:\n",
      "          City             Year  Population\n",
      "0     New York  2020_Population     8400000\n",
      "1  Los Angeles  2020_Population     3900000\n",
      "2     New York  2021_Population     8500000\n",
      "3  Los Angeles  2021_Population     3950000\n"
     ]
    }
   ],
   "source": [
    "data = {'City': ['New York', 'Los Angeles'],\n",
    "        '2020_Population': [8400000, 3900000],\n",
    "        '2021_Population': [8500000, 3950000]}\n",
    "df = pd.DataFrame(data)\n",
    "\n",
    "print(\"Original DataFrame:\")\n",
    "print(df)\n",
    "\n",
    "# Melt the DataFrame\n",
    "df_melted = pd.melt(df, id_vars=['City'], \n",
    "                    value_vars=['2020_Population', '2021_Population'],\n",
    "                    var_name='Year', \n",
    "                    value_name='Population')\n",
    "\n",
    "print(\"\\nMelted DataFrame:\")\n",
    "print(df_melted)\n"
   ]
  },
  {
   "cell_type": "code",
   "execution_count": null,
   "id": "6f83e675-58c3-4bac-848c-5448be876475",
   "metadata": {},
   "outputs": [],
   "source": []
  },
  {
   "cell_type": "markdown",
   "id": "c63a871f-b415-44ca-9386-dcff563d1961",
   "metadata": {},
   "source": [
    "### Reshaping: changing the structure of data"
   ]
  },
  {
   "cell_type": "code",
   "execution_count": 16,
   "id": "e7089f78-26ff-4229-9f3c-771f20be9d8e",
   "metadata": {},
   "outputs": [],
   "source": [
    "# I'm going to use merged data\n",
    "\n",
    "df1 = pd.read_csv('merged_data')"
   ]
  },
  {
   "cell_type": "code",
   "execution_count": 17,
   "id": "87b336f8-9bef-4237-8ea8-b46ba2c7cbcb",
   "metadata": {},
   "outputs": [
    {
     "data": {
      "text/html": [
       "<div>\n",
       "<style scoped>\n",
       "    .dataframe tbody tr th:only-of-type {\n",
       "        vertical-align: middle;\n",
       "    }\n",
       "\n",
       "    .dataframe tbody tr th {\n",
       "        vertical-align: top;\n",
       "    }\n",
       "\n",
       "    .dataframe thead th {\n",
       "        text-align: right;\n",
       "    }\n",
       "</style>\n",
       "<table border=\"1\" class=\"dataframe\">\n",
       "  <thead>\n",
       "    <tr style=\"text-align: right;\">\n",
       "      <th></th>\n",
       "      <th>student_id</th>\n",
       "      <th>name</th>\n",
       "      <th>age</th>\n",
       "      <th>math</th>\n",
       "      <th>science</th>\n",
       "      <th>english</th>\n",
       "      <th>days_present</th>\n",
       "      <th>total_days</th>\n",
       "    </tr>\n",
       "  </thead>\n",
       "  <tbody>\n",
       "    <tr>\n",
       "      <th>0</th>\n",
       "      <td>1</td>\n",
       "      <td>Adarsh</td>\n",
       "      <td>21</td>\n",
       "      <td>85</td>\n",
       "      <td>92</td>\n",
       "      <td>88</td>\n",
       "      <td>40</td>\n",
       "      <td>45</td>\n",
       "    </tr>\n",
       "    <tr>\n",
       "      <th>1</th>\n",
       "      <td>2</td>\n",
       "      <td>Priya</td>\n",
       "      <td>22</td>\n",
       "      <td>90</td>\n",
       "      <td>81</td>\n",
       "      <td>76</td>\n",
       "      <td>38</td>\n",
       "      <td>45</td>\n",
       "    </tr>\n",
       "    <tr>\n",
       "      <th>2</th>\n",
       "      <td>3</td>\n",
       "      <td>Rohan</td>\n",
       "      <td>23</td>\n",
       "      <td>78</td>\n",
       "      <td>74</td>\n",
       "      <td>89</td>\n",
       "      <td>35</td>\n",
       "      <td>45</td>\n",
       "    </tr>\n",
       "    <tr>\n",
       "      <th>3</th>\n",
       "      <td>4</td>\n",
       "      <td>Neha</td>\n",
       "      <td>22</td>\n",
       "      <td>88</td>\n",
       "      <td>95</td>\n",
       "      <td>84</td>\n",
       "      <td>42</td>\n",
       "      <td>45</td>\n",
       "    </tr>\n",
       "  </tbody>\n",
       "</table>\n",
       "</div>"
      ],
      "text/plain": [
       "   student_id    name  age  math  science  english  days_present  total_days\n",
       "0           1  Adarsh   21    85       92       88            40          45\n",
       "1           2   Priya   22    90       81       76            38          45\n",
       "2           3   Rohan   23    78       74       89            35          45\n",
       "3           4    Neha   22    88       95       84            42          45"
      ]
     },
     "execution_count": 17,
     "metadata": {},
     "output_type": "execute_result"
    }
   ],
   "source": [
    "df1"
   ]
  },
  {
   "cell_type": "code",
   "execution_count": 18,
   "id": "54c24ddd-f035-4526-bab1-a114fa888d39",
   "metadata": {},
   "outputs": [],
   "source": [
    "print(\"shape of data before mel\")\n",
    "long_format = pd.melt(\n",
    "    df1,\n",
    "    id_vars=[\"student_id\", \"name\", \"age\", \"days_present\", \"total_days\"],\n",
    "    value_vars=[\"math\", \"science\", \"english\"],\n",
    "    var_name=\"subject\",\n",
    "    value_name=\"score\"\n",
    ")"
   ]
  },
  {
   "cell_type": "code",
   "execution_count": 19,
   "id": "984945fa-d0cf-466f-80d4-2d38a14ab594",
   "metadata": {},
   "outputs": [
    {
     "data": {
      "text/html": [
       "<div>\n",
       "<style scoped>\n",
       "    .dataframe tbody tr th:only-of-type {\n",
       "        vertical-align: middle;\n",
       "    }\n",
       "\n",
       "    .dataframe tbody tr th {\n",
       "        vertical-align: top;\n",
       "    }\n",
       "\n",
       "    .dataframe thead th {\n",
       "        text-align: right;\n",
       "    }\n",
       "</style>\n",
       "<table border=\"1\" class=\"dataframe\">\n",
       "  <thead>\n",
       "    <tr style=\"text-align: right;\">\n",
       "      <th></th>\n",
       "      <th>student_id</th>\n",
       "      <th>name</th>\n",
       "      <th>age</th>\n",
       "      <th>days_present</th>\n",
       "      <th>total_days</th>\n",
       "      <th>subject</th>\n",
       "      <th>score</th>\n",
       "    </tr>\n",
       "  </thead>\n",
       "  <tbody>\n",
       "    <tr>\n",
       "      <th>0</th>\n",
       "      <td>1</td>\n",
       "      <td>Adarsh</td>\n",
       "      <td>21</td>\n",
       "      <td>40</td>\n",
       "      <td>45</td>\n",
       "      <td>math</td>\n",
       "      <td>85</td>\n",
       "    </tr>\n",
       "    <tr>\n",
       "      <th>1</th>\n",
       "      <td>2</td>\n",
       "      <td>Priya</td>\n",
       "      <td>22</td>\n",
       "      <td>38</td>\n",
       "      <td>45</td>\n",
       "      <td>math</td>\n",
       "      <td>90</td>\n",
       "    </tr>\n",
       "    <tr>\n",
       "      <th>2</th>\n",
       "      <td>3</td>\n",
       "      <td>Rohan</td>\n",
       "      <td>23</td>\n",
       "      <td>35</td>\n",
       "      <td>45</td>\n",
       "      <td>math</td>\n",
       "      <td>78</td>\n",
       "    </tr>\n",
       "    <tr>\n",
       "      <th>3</th>\n",
       "      <td>4</td>\n",
       "      <td>Neha</td>\n",
       "      <td>22</td>\n",
       "      <td>42</td>\n",
       "      <td>45</td>\n",
       "      <td>math</td>\n",
       "      <td>88</td>\n",
       "    </tr>\n",
       "    <tr>\n",
       "      <th>4</th>\n",
       "      <td>1</td>\n",
       "      <td>Adarsh</td>\n",
       "      <td>21</td>\n",
       "      <td>40</td>\n",
       "      <td>45</td>\n",
       "      <td>science</td>\n",
       "      <td>92</td>\n",
       "    </tr>\n",
       "    <tr>\n",
       "      <th>5</th>\n",
       "      <td>2</td>\n",
       "      <td>Priya</td>\n",
       "      <td>22</td>\n",
       "      <td>38</td>\n",
       "      <td>45</td>\n",
       "      <td>science</td>\n",
       "      <td>81</td>\n",
       "    </tr>\n",
       "    <tr>\n",
       "      <th>6</th>\n",
       "      <td>3</td>\n",
       "      <td>Rohan</td>\n",
       "      <td>23</td>\n",
       "      <td>35</td>\n",
       "      <td>45</td>\n",
       "      <td>science</td>\n",
       "      <td>74</td>\n",
       "    </tr>\n",
       "    <tr>\n",
       "      <th>7</th>\n",
       "      <td>4</td>\n",
       "      <td>Neha</td>\n",
       "      <td>22</td>\n",
       "      <td>42</td>\n",
       "      <td>45</td>\n",
       "      <td>science</td>\n",
       "      <td>95</td>\n",
       "    </tr>\n",
       "    <tr>\n",
       "      <th>8</th>\n",
       "      <td>1</td>\n",
       "      <td>Adarsh</td>\n",
       "      <td>21</td>\n",
       "      <td>40</td>\n",
       "      <td>45</td>\n",
       "      <td>english</td>\n",
       "      <td>88</td>\n",
       "    </tr>\n",
       "    <tr>\n",
       "      <th>9</th>\n",
       "      <td>2</td>\n",
       "      <td>Priya</td>\n",
       "      <td>22</td>\n",
       "      <td>38</td>\n",
       "      <td>45</td>\n",
       "      <td>english</td>\n",
       "      <td>76</td>\n",
       "    </tr>\n",
       "    <tr>\n",
       "      <th>10</th>\n",
       "      <td>3</td>\n",
       "      <td>Rohan</td>\n",
       "      <td>23</td>\n",
       "      <td>35</td>\n",
       "      <td>45</td>\n",
       "      <td>english</td>\n",
       "      <td>89</td>\n",
       "    </tr>\n",
       "    <tr>\n",
       "      <th>11</th>\n",
       "      <td>4</td>\n",
       "      <td>Neha</td>\n",
       "      <td>22</td>\n",
       "      <td>42</td>\n",
       "      <td>45</td>\n",
       "      <td>english</td>\n",
       "      <td>84</td>\n",
       "    </tr>\n",
       "  </tbody>\n",
       "</table>\n",
       "</div>"
      ],
      "text/plain": [
       "    student_id    name  age  days_present  total_days  subject  score\n",
       "0            1  Adarsh   21            40          45     math     85\n",
       "1            2   Priya   22            38          45     math     90\n",
       "2            3   Rohan   23            35          45     math     78\n",
       "3            4    Neha   22            42          45     math     88\n",
       "4            1  Adarsh   21            40          45  science     92\n",
       "5            2   Priya   22            38          45  science     81\n",
       "6            3   Rohan   23            35          45  science     74\n",
       "7            4    Neha   22            42          45  science     95\n",
       "8            1  Adarsh   21            40          45  english     88\n",
       "9            2   Priya   22            38          45  english     76\n",
       "10           3   Rohan   23            35          45  english     89\n",
       "11           4    Neha   22            42          45  english     84"
      ]
     },
     "execution_count": 19,
     "metadata": {},
     "output_type": "execute_result"
    }
   ],
   "source": [
    "long_format"
   ]
  },
  {
   "cell_type": "code",
   "execution_count": 25,
   "id": "077bf462-3901-4abd-a619-6ee8070acc13",
   "metadata": {},
   "outputs": [
    {
     "name": "stdout",
     "output_type": "stream",
     "text": [
      "subject  student_id    name  english  math  science\n",
      "0                 1  Adarsh     88.0  85.0     92.0\n",
      "1                 2   Priya     76.0  90.0     81.0\n",
      "2                 3   Rohan     89.0  78.0     74.0\n",
      "3                 4    Neha     84.0  88.0     95.0\n",
      "\n"
     ]
    },
    {
     "data": {
      "text/html": [
       "<div>\n",
       "<style scoped>\n",
       "    .dataframe tbody tr th:only-of-type {\n",
       "        vertical-align: middle;\n",
       "    }\n",
       "\n",
       "    .dataframe tbody tr th {\n",
       "        vertical-align: top;\n",
       "    }\n",
       "\n",
       "    .dataframe thead th {\n",
       "        text-align: right;\n",
       "    }\n",
       "</style>\n",
       "<table border=\"1\" class=\"dataframe\">\n",
       "  <thead>\n",
       "    <tr style=\"text-align: right;\">\n",
       "      <th></th>\n",
       "      <th>student_id</th>\n",
       "      <th>name</th>\n",
       "      <th>age</th>\n",
       "      <th>math</th>\n",
       "      <th>science</th>\n",
       "      <th>english</th>\n",
       "      <th>days_present</th>\n",
       "      <th>total_days</th>\n",
       "    </tr>\n",
       "  </thead>\n",
       "  <tbody>\n",
       "    <tr>\n",
       "      <th>0</th>\n",
       "      <td>1</td>\n",
       "      <td>Adarsh</td>\n",
       "      <td>21</td>\n",
       "      <td>85</td>\n",
       "      <td>92</td>\n",
       "      <td>88</td>\n",
       "      <td>40</td>\n",
       "      <td>45</td>\n",
       "    </tr>\n",
       "    <tr>\n",
       "      <th>1</th>\n",
       "      <td>2</td>\n",
       "      <td>Priya</td>\n",
       "      <td>22</td>\n",
       "      <td>90</td>\n",
       "      <td>81</td>\n",
       "      <td>76</td>\n",
       "      <td>38</td>\n",
       "      <td>45</td>\n",
       "    </tr>\n",
       "    <tr>\n",
       "      <th>2</th>\n",
       "      <td>3</td>\n",
       "      <td>Rohan</td>\n",
       "      <td>23</td>\n",
       "      <td>78</td>\n",
       "      <td>74</td>\n",
       "      <td>89</td>\n",
       "      <td>35</td>\n",
       "      <td>45</td>\n",
       "    </tr>\n",
       "    <tr>\n",
       "      <th>3</th>\n",
       "      <td>4</td>\n",
       "      <td>Neha</td>\n",
       "      <td>22</td>\n",
       "      <td>88</td>\n",
       "      <td>95</td>\n",
       "      <td>84</td>\n",
       "      <td>42</td>\n",
       "      <td>45</td>\n",
       "    </tr>\n",
       "  </tbody>\n",
       "</table>\n",
       "</div>"
      ],
      "text/plain": [
       "   student_id    name  age  math  science  english  days_present  total_days\n",
       "0           1  Adarsh   21    85       92       88            40          45\n",
       "1           2   Priya   22    90       81       76            38          45\n",
       "2           3   Rohan   23    78       74       89            35          45\n",
       "3           4    Neha   22    88       95       84            42          45"
      ]
     },
     "execution_count": 25,
     "metadata": {},
     "output_type": "execute_result"
    }
   ],
   "source": [
    "# reshaping back\n",
    "pivot = long_format.pivot_table(\n",
    "    index=[\"student_id\", \"name\"],\n",
    "    columns=\"subject\",\n",
    "    values=\"score\"\n",
    ").reset_index()\n",
    "print(pivot)\n",
    "print()\n",
    "df1\n"
   ]
  },
  {
   "cell_type": "code",
   "execution_count": null,
   "id": "f96fef72-5b0c-4ee5-b9d2-c19dfdc47aae",
   "metadata": {},
   "outputs": [],
   "source": []
  }
 ],
 "metadata": {
  "kernelspec": {
   "display_name": "Python 3 (ipykernel)",
   "language": "python",
   "name": "python3"
  },
  "language_info": {
   "codemirror_mode": {
    "name": "ipython",
    "version": 3
   },
   "file_extension": ".py",
   "mimetype": "text/x-python",
   "name": "python",
   "nbconvert_exporter": "python",
   "pygments_lexer": "ipython3",
   "version": "3.12.7"
  },
  "widgets": {
   "application/vnd.jupyter.widget-state+json": {
    "state": {},
    "version_major": 2,
    "version_minor": 0
   }
  }
 },
 "nbformat": 4,
 "nbformat_minor": 5
}
