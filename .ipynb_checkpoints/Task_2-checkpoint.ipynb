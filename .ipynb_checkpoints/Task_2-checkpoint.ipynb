{
 "cells": [
  {
   "cell_type": "code",
   "execution_count": 2,
   "id": "ff5eda59-cf99-4184-98a0-0394da8eec5f",
   "metadata": {},
   "outputs": [],
   "source": [
    "import numpy as np\n",
    "import math"
   ]
  },
  {
   "cell_type": "code",
   "execution_count": 3,
   "id": "b5bd0b87-b570-41cc-aeba-2f1989dda341",
   "metadata": {},
   "outputs": [
    {
     "name": "stdout",
     "output_type": "stream",
     "text": [
      "Original Array: [ 1  4  9 16 25 36]\n",
      "Square Root Array: [1. 2. 3. 4. 5. 6.]\n"
     ]
    }
   ],
   "source": [
    "def custom_sqrt(x):\n",
    "    return math.sqrt(x)\n",
    "\n",
    "sqrt_ufunc = np.frompyfunc(custom_sqrt, 1, 1)\n",
    "arr = np.array([1, 4, 9, 16, 25, 36])\n",
    "\n",
    "sqrt_result_obj = sqrt_ufunc(arr)\n",
    "sqrt_result = np.array(sqrt_result_obj, dtype=float)  \n",
    "\n",
    "print(\"Original Array:\", arr)\n",
    "print(\"Square Root Array:\", sqrt_result)\n"
   ]
  },
  {
   "cell_type": "code",
   "execution_count": null,
   "id": "259ab0c6-ace2-44b0-8fb3-1e35b9554823",
   "metadata": {},
   "outputs": [],
   "source": []
  },
  {
   "cell_type": "code",
   "execution_count": null,
   "id": "f0618ee7-167b-45f3-a5e4-009ed4bb5ffc",
   "metadata": {},
   "outputs": [],
   "source": []
  }
 ],
 "metadata": {
  "kernelspec": {
   "display_name": "Python 3 (ipykernel)",
   "language": "python",
   "name": "python3"
  },
  "language_info": {
   "codemirror_mode": {
    "name": "ipython",
    "version": 3
   },
   "file_extension": ".py",
   "mimetype": "text/x-python",
   "name": "python",
   "nbconvert_exporter": "python",
   "pygments_lexer": "ipython3",
   "version": "3.12.7"
  },
  "widgets": {
   "application/vnd.jupyter.widget-state+json": {
    "state": {},
    "version_major": 2,
    "version_minor": 0
   }
  }
 },
 "nbformat": 4,
 "nbformat_minor": 5
}
